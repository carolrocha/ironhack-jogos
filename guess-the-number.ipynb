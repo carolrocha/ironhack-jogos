{
 "cells": [
  {
   "cell_type": "markdown",
   "metadata": {},
   "source": [
    "# 1. GUESS THE NUMBER"
   ]
  },
  {
   "cell_type": "markdown",
   "metadata": {},
   "source": [
    "## Regras do jogo:\n",
    "<ol>\n",
    "    <li>Este é um jogo com dois participantes</li>\n",
    "    <li>Na primeira rodada, o jogador 1 escolhe aleatoriamente um número inteiro entre 0 e 100</li>\n",
    "    <li>O jogador 2 tenta adivinhar o número</li>\n",
    "    <li>Caso o chute esteja incorreto, o jogador 1 diz se o número correto é maior ou menor</li>\n",
    "    <li>Então o jogador 2 dá um novo chute e este processo se repete até que o jogador 2 acerte a resposta</li>\n",
    "    <li>O score final do jogador 2 é o número de tentativas de que ele precisou até acertar a resposta</li>\n",
    "    <li>Na rodada seguinte, os jogadores trocam de posição, repetem o jogo, e o vencedor é aquele que obteve o menor score</li>\n",
    "</ol>"
   ]
  },
  {
   "cell_type": "code",
   "execution_count": 1,
   "metadata": {},
   "outputs": [],
   "source": [
    "# import random"
   ]
  },
  {
   "cell_type": "code",
   "execution_count": 2,
   "metadata": {},
   "outputs": [],
   "source": [
    "# def game(n_player):\n",
    "#     num = random.choice(range(101))\n",
    "#     n_trys = 0\n",
    "#     guess = -1\n",
    "#     while guess != num:\n",
    "#         while True:\n",
    "#             try:\n",
    "#                 guess = int(input(\"Adivinhe um número entre 0 e 100: \"))\n",
    "#             except:\n",
    "#                 print(\"Input inválido, tente novamente\")\n",
    "#                 continue\n",
    "#             else:\n",
    "#                 break\n",
    "#         n_trys += 1\n",
    "#         if guess < num:\n",
    "#             print(\"Tente um número maior\")\n",
    "#         elif guess > num:\n",
    "#             print(\"Tente um número menor\")\n",
    "#     print(f\"\\nO jogador {n_player} acertou o número em {n_trys} tentativas!\\n\")\n",
    "#     return n_trys"
   ]
  },
  {
   "cell_type": "code",
   "execution_count": 3,
   "metadata": {
    "scrolled": true
   },
   "outputs": [],
   "source": [
    "# def rounds():\n",
    "#     print('PRIMEIRA RODADA:')\n",
    "#     score_1 = game(1)\n",
    "#     print('SEGUNDA RODADA:')\n",
    "#     score_2 = game(2)\n",
    "#     if score_1 < score_2:\n",
    "#         print(\"\\nVENCEDOR: JOGADOR 1!\")\n",
    "#     elif score_1 > score_2:\n",
    "#         print(\"\\nVENCEDOR: JOGADOR 2!\")\n",
    "#     else:\n",
    "#         print(\"\\nEMPARE!\")\n",
    "    \n",
    "# rounds()"
   ]
  },
  {
   "cell_type": "markdown",
   "metadata": {},
   "source": [
    "# 2. Tic-Tac-Toe"
   ]
  },
  {
   "cell_type": "markdown",
   "metadata": {},
   "source": [
    "## Regras do jogo:\n",
    "<ol>\n",
    "    <li>Este é um jogo com dois participantes jogado em um tabuleiro de dimensões 3x3</li>\n",
    "    <li>Um dos jogadores escolhe \"X\", o outro escolhe \"O\" e ambos se alternam preenchendo os espaços vazios do tabuleiro com seus respectivos símbolos</li>\n",
    "    <li>O primeiro jogador a enfileirar 3 símbolos seus na horizontal, na vertical ou na diagonal é o vencedor</li>\n",
    "    <li>Se todo o tabuleiro for preenchido sem que nenhum jogador consiga enfileirar seus símbolos conforme a regra acima, o jogo termina empatado</li>\n",
    "</ol>"
   ]
  },
  {
   "cell_type": "markdown",
   "metadata": {},
   "source": [
    "# 3. Hangman"
   ]
  },
  {
   "cell_type": "markdown",
   "metadata": {},
   "source": [
    "## Regras do jogo:\n",
    "<ol>\n",
    "    <li>Este é um jogo com dois ou mais participantes em que um pensa em uma palavra e os outros tentam adivinhá-la sugerindo letras</li>\n",
    "    <li>Os jogadores têm no máximo 6 tentativas para acertar a palavra</li>\n",
    "</ol>"
   ]
  },
  {
   "cell_type": "markdown",
   "metadata": {},
   "source": [
    "# 4. Strong Random Password Generator"
   ]
  },
  {
   "cell_type": "markdown",
   "metadata": {},
   "source": [
    "## Regras do jogo:"
   ]
  },
  {
   "cell_type": "code",
   "execution_count": 8,
   "metadata": {},
   "outputs": [],
   "source": [
    "import string"
   ]
  },
  {
   "cell_type": "code",
   "execution_count": 9,
   "metadata": {},
   "outputs": [
    {
     "name": "stdout",
     "output_type": "stream",
     "text": [
      "!\"#$%&'()*+,-./:;<=>?@[\\]^_`{|}~\n",
      "0123456789\n",
      "abcdefghijklmnopqrstuvwxyz\n",
      "ABCDEFGHIJKLMNOPQRSTUVWXYZ\n"
     ]
    }
   ],
   "source": [
    "def password_gen():\n",
    "    \n",
    "    special = string.punctuation\n",
    "    digits = string.digits\n",
    "    lower = string.ascii_lowercase\n",
    "    upper = string.ascii_uppercase\n",
    "    \n",
    "    pwd_len = int(input('Número de caracteres [16+]: '))\n",
    "    while pwd_len < 16:\n",
    "        print(\"A senha deve ter pelo menos 16 caracteres\")\n",
    "        pwd_len = int(input('Número de caracteres [16+]: '))\n",
    "    include_special = input('Incluir caracteres especiais [s / n]: ')\n",
    "    include_digits = input('Incluir dígitos [s / n]: ')\n",
    "    include_lower = input('Incluir letras minúsculas [s / n]: ')\n",
    "    include_upper = input('Incluir letras maiúsculas [s / n]: ')\n",
    "    include_repeated = input('Incluir caracteres repetidos [s / n]: ')\n",
    "    \n",
    "    \n",
    "        \n",
    "#     print(special)\n",
    "#     print(digits)\n",
    "#     print(lower)\n",
    "#     print(upper)\n",
    "    \n",
    "#     print(pwd_len)\n",
    "#     print(include_special)\n",
    "#     print(include_digits)\n",
    "#     print(include_lower)\n",
    "#     print(include_upper)\n",
    "#     print(exclude_similar)\n",
    "    \n",
    "password_gen()"
   ]
  }
 ],
 "metadata": {
  "kernelspec": {
   "display_name": "Python 3",
   "language": "python",
   "name": "python3"
  },
  "language_info": {
   "codemirror_mode": {
    "name": "ipython",
    "version": 3
   },
   "file_extension": ".py",
   "mimetype": "text/x-python",
   "name": "python",
   "nbconvert_exporter": "python",
   "pygments_lexer": "ipython3",
   "version": "3.7.5"
  }
 },
 "nbformat": 4,
 "nbformat_minor": 2
}
