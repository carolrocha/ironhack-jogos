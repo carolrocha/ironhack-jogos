{
 "cells": [
  {
   "cell_type": "markdown",
   "metadata": {},
   "source": [
    "# GUESS THE NUMBER"
   ]
  },
  {
   "cell_type": "markdown",
   "metadata": {},
   "source": [
    "## Regras do jogo:\n",
    "<ol>\n",
    "    <li>Este é um jogo com dois participantes</li>\n",
    "    <li>Na primeira rodada, o jogador 1 escolhe aleatoriamente um número inteiro entre 0 e 100</li>\n",
    "    <li>O jogador 2 tenta adivinhar o número</li>\n",
    "    <li>Caso o chute esteja incorreto, o jogador 1 diz se o número correto é maior ou menor</li>\n",
    "    <li>Então o jogador 2 dá um novo chute e este processo se repete até que o jogador 2 acerte a resposta</li>\n",
    "    <li>O score final do jogador 2 é o número de tentativas de que ele precisou até acertar a resposta</li>\n",
    "    <li>Na rodada seguinte, os jogadores trocam de posição, repetem o jogo, e o vencedor é aquele que obteve o menor score</li>\n",
    "</ol>"
   ]
  },
  {
   "cell_type": "code",
   "execution_count": 1,
   "metadata": {},
   "outputs": [],
   "source": [
    "import random"
   ]
  },
  {
   "cell_type": "code",
   "execution_count": 2,
   "metadata": {},
   "outputs": [],
   "source": [
    "def game(n_player):\n",
    "    num = random.choice(range(101))\n",
    "    n_trys = 0\n",
    "    guess = -1\n",
    "    while guess != num:\n",
    "        while True:\n",
    "            try:\n",
    "                guess = int(input(\"Adivinhe um número entre 0 e 100: \"))\n",
    "            except:\n",
    "                print(\"Input inválido, tente novamente\")\n",
    "                continue\n",
    "            else:\n",
    "                break\n",
    "        n_trys += 1\n",
    "        if guess < num:\n",
    "            print(\"Tente um número maior\")\n",
    "        elif guess > num:\n",
    "            print(\"Tente um número menor\")\n",
    "    print(f\"\\nO jogador {n_player} acertou o número em {n_trys} tentativas!\\n\")\n",
    "    return n_trys"
   ]
  },
  {
   "cell_type": "code",
   "execution_count": 3,
   "metadata": {},
   "outputs": [
    {
     "name": "stdout",
     "output_type": "stream",
     "text": [
      "PRIMEIRA RODADA:\n",
      "Adivinhe um número entre 0 e 100: o\n",
      "Input inválido, tente novamente\n",
      "Adivinhe um número entre 0 e 100: 50\n",
      "Tente um número menor\n",
      "Adivinhe um número entre 0 e 100: 25\n",
      "Tente um número menor\n",
      "Adivinhe um número entre 0 e 100: 13\n",
      "Tente um número menor\n",
      "Adivinhe um número entre 0 e 100: 8\n",
      "Tente um número maior\n",
      "Adivinhe um número entre 0 e 100: 10\n",
      "\n",
      "O jogador 1 acertou o número em 5 tentativas!\n",
      "\n",
      "SEGUNDA RODADA:\n",
      "Adivinhe um número entre 0 e 100: 50\n",
      "Tente um número menor\n",
      "Adivinhe um número entre 0 e 100: 35\n",
      "Tente um número menor\n",
      "Adivinhe um número entre 0 e 100: 12\n",
      "Tente um número menor\n",
      "Adivinhe um número entre 0 e 100: 6\n",
      "Tente um número menor\n",
      "Adivinhe um número entre 0 e 100: 3\n",
      "Tente um número menor\n",
      "Adivinhe um número entre 0 e 100: 2\n",
      "\n",
      "O jogador 2 acertou o número em 6 tentativas!\n",
      "\n",
      "\n",
      "VENCEDOR: JOGADOR 1!\n"
     ]
    }
   ],
   "source": [
    "def rounds():\n",
    "    print('PRIMEIRA RODADA:')\n",
    "    score_1 = game(1)\n",
    "    print('SEGUNDA RODADA:')\n",
    "    score_2 = game(2)\n",
    "    if score_1 < score_2:\n",
    "        print(\"\\nVENCEDOR: JOGADOR 1!\")\n",
    "    elif score_1 > score_2:\n",
    "        print(\"\\nVENCEDOR: JOGADOR 2!\")\n",
    "    else:\n",
    "        print(\"\\nEMPARE!\")\n",
    "    \n",
    "rounds()"
   ]
  }
 ],
 "metadata": {
  "kernelspec": {
   "display_name": "Python 3",
   "language": "python",
   "name": "python3"
  },
  "language_info": {
   "codemirror_mode": {
    "name": "ipython",
    "version": 3
   },
   "file_extension": ".py",
   "mimetype": "text/x-python",
   "name": "python",
   "nbconvert_exporter": "python",
   "pygments_lexer": "ipython3",
   "version": "3.7.5"
  }
 },
 "nbformat": 4,
 "nbformat_minor": 2
}
