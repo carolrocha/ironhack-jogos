{
 "cells": [
  {
   "cell_type": "markdown",
   "metadata": {},
   "source": [
    "# HANGMAN - JOGO DA FORCA\n",
    "\n",
    "### **Regras do jogo**:\n",
    "\n",
    "1. Uma palavra será escolhida randomicamente pelo computador e o jogador precisa adivinhar qual é, fazendo uma tentativa de letra por vez.\n",
    "2. Se o jogador qualquer uma das letras pode continuar jogando.\n",
    "3. Após 6 tentativas incorretas, não consecutivas, o jogo é encerrado. \n",
    "4. O jogador ganha quando consegue adivinhar a palavra antes das 6 tentativas incorretas."
   ]
  },
  {
   "cell_type": "code",
   "execution_count": null,
   "metadata": {},
   "outputs": [],
   "source": [
    "import random"
   ]
  },
  {
   "cell_type": "markdown",
   "metadata": {},
   "source": [
    "Definição da lista de palavras que o computador escolherá, randomicamente, para iniciar o jogo.\n"
   ]
  },
  {
   "cell_type": "code",
   "execution_count": null,
   "metadata": {},
   "outputs": [],
   "source": [
    "hangman = ['ironhack', 'forca', 'analytics', 'dados', 'python']\n",
    "\n",
    "def word_choice(hangman):\n",
    "    choice = random.choice(hangman)\n",
    "    return choice"
   ]
  },
  {
   "cell_type": "markdown",
   "metadata": {},
   "source": [
    "Definição da função para identificar se a letra que o jogador escolheu está correta."
   ]
  },
  {
   "cell_type": "code",
   "execution_count": null,
   "metadata": {},
   "outputs": [],
   "source": [
    "word = list(word_choice(hangman))\n",
    "letter = []\n",
    "\n",
    "for i in range(len(word)):\n",
    "     letter.append('')\n",
    "\n",
    "def player_guess(word):\n",
    "    \n",
    "    wrong = 0\n",
    "    while wrong < 6 and letter != word:\n",
    "        guess = input('Insira uma letra e tente adivinhar: ')\n",
    "        if guess in word:\n",
    "            for i in range(len(word)):\n",
    "                if guess == word[i]:\n",
    "                    letter[i] = word[i]\n",
    "                    print(letter)\n",
    "        else:\n",
    "            wrong += 1"
   ]
  },
  {
   "cell_type": "code",
   "execution_count": null,
   "metadata": {},
   "outputs": [],
   "source": [
    "print(f\"A palavra tem {len(word)} letras.\")\n",
    "\n",
    "\"\\n\"\n",
    "\n",
    "print(player_guess(word))"
   ]
  }
 ],
 "metadata": {
  "kernelspec": {
   "display_name": "Python 3",
   "language": "python",
   "name": "python3"
  },
  "language_info": {
   "codemirror_mode": {
    "name": "ipython",
    "version": 3
   },
   "file_extension": ".py",
   "mimetype": "text/x-python",
   "name": "python",
   "nbconvert_exporter": "python",
   "pygments_lexer": "ipython3",
   "version": "3.6.8"
  }
 },
 "nbformat": 4,
 "nbformat_minor": 2
}
